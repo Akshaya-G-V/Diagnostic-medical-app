{
 "cells": [
  {
   "cell_type": "markdown",
   "id": "a8ae8a6a",
   "metadata": {},
   "source": [
    "## End to end machine learning with deployment"
   ]
  },
  {
   "cell_type": "markdown",
   "id": "95b03191",
   "metadata": {},
   "source": [
    "**Problem Statement** \n",
    "Create a medical diagnostic app for predicting diabetes in women\n",
    "\n",
    "**Dataset** The Pima Indian dataset from Kaggle\n",
    "\n",
    "**Steps to Follow**\n",
    "1. Data Exploration\n",
    "2. Data Cleaning\n",
    "3. EDA\n",
    "4. Data pre-processing\n",
    "5. Model fitting and evaluation\n",
    "6. Model optimization\n",
    "7. Model interpretation\n",
    "8. Model Deployment"
   ]
  },
  {
   "cell_type": "code",
   "execution_count": 1,
   "id": "968b868a",
   "metadata": {},
   "outputs": [
    {
     "name": "stdout",
     "output_type": "stream",
     "text": [
      "Requirement already satisfied: imbalanced-learn in c:\\users\\akshaya_gv\\anacondas\\lib\\site-packages (0.11.0)\n",
      "Requirement already satisfied: numpy>=1.17.3 in c:\\users\\akshaya_gv\\anacondas\\lib\\site-packages (from imbalanced-learn) (1.21.5)\n",
      "Requirement already satisfied: joblib>=1.1.1 in c:\\users\\akshaya_gv\\anacondas\\lib\\site-packages (from imbalanced-learn) (1.3.2)\n",
      "Requirement already satisfied: scipy>=1.5.0 in c:\\users\\akshaya_gv\\anacondas\\lib\\site-packages (from imbalanced-learn) (1.9.1)\n",
      "Requirement already satisfied: threadpoolctl>=2.0.0 in c:\\users\\akshaya_gv\\anacondas\\lib\\site-packages (from imbalanced-learn) (2.2.0)\n",
      "Requirement already satisfied: scikit-learn>=1.0.2 in c:\\users\\akshaya_gv\\anacondas\\lib\\site-packages (from imbalanced-learn) (1.0.2)\n"
     ]
    }
   ],
   "source": [
    "!pip install imbalanced-learn\n"
   ]
  },
  {
   "cell_type": "code",
   "execution_count": 2,
   "id": "2fcb8f8e",
   "metadata": {},
   "outputs": [
    {
     "name": "stdout",
     "output_type": "stream",
     "text": [
      "Requirement already satisfied: shap in c:\\users\\akshaya_gv\\anacondas\\lib\\site-packages (0.43.0)\n",
      "Requirement already satisfied: numpy in c:\\users\\akshaya_gv\\anacondas\\lib\\site-packages (from shap) (1.21.5)\n",
      "Requirement already satisfied: numba in c:\\users\\akshaya_gv\\anacondas\\lib\\site-packages (from shap) (0.55.1)\n",
      "Requirement already satisfied: scipy in c:\\users\\akshaya_gv\\anacondas\\lib\\site-packages (from shap) (1.9.1)\n",
      "Requirement already satisfied: scikit-learn in c:\\users\\akshaya_gv\\anacondas\\lib\\site-packages (from shap) (1.0.2)\n",
      "Requirement already satisfied: slicer==0.0.7 in c:\\users\\akshaya_gv\\anacondas\\lib\\site-packages (from shap) (0.0.7)\n",
      "Requirement already satisfied: packaging>20.9 in c:\\users\\akshaya_gv\\anacondas\\lib\\site-packages (from shap) (21.3)\n",
      "Requirement already satisfied: cloudpickle in c:\\users\\akshaya_gv\\anacondas\\lib\\site-packages (from shap) (2.0.0)\n",
      "Requirement already satisfied: pandas in c:\\users\\akshaya_gv\\anacondas\\lib\\site-packages (from shap) (1.4.4)\n",
      "Requirement already satisfied: tqdm>=4.27.0 in c:\\users\\akshaya_gv\\anacondas\\lib\\site-packages (from shap) (4.64.1)\n",
      "Requirement already satisfied: pyparsing!=3.0.5,>=2.0.2 in c:\\users\\akshaya_gv\\anacondas\\lib\\site-packages (from packaging>20.9->shap) (3.0.9)\n",
      "Requirement already satisfied: colorama in c:\\users\\akshaya_gv\\anacondas\\lib\\site-packages (from tqdm>=4.27.0->shap) (0.4.5)\n",
      "Requirement already satisfied: setuptools in c:\\users\\akshaya_gv\\anacondas\\lib\\site-packages (from numba->shap) (63.4.1)\n",
      "Requirement already satisfied: llvmlite<0.39,>=0.38.0rc1 in c:\\users\\akshaya_gv\\anacondas\\lib\\site-packages (from numba->shap) (0.38.0)\n",
      "Requirement already satisfied: pytz>=2020.1 in c:\\users\\akshaya_gv\\anacondas\\lib\\site-packages (from pandas->shap) (2022.1)\n",
      "Requirement already satisfied: python-dateutil>=2.8.1 in c:\\users\\akshaya_gv\\anacondas\\lib\\site-packages (from pandas->shap) (2.8.2)\n",
      "Requirement already satisfied: joblib>=0.11 in c:\\users\\akshaya_gv\\anacondas\\lib\\site-packages (from scikit-learn->shap) (1.3.2)\n",
      "Requirement already satisfied: threadpoolctl>=2.0.0 in c:\\users\\akshaya_gv\\anacondas\\lib\\site-packages (from scikit-learn->shap) (2.2.0)\n",
      "Requirement already satisfied: six>=1.5 in c:\\users\\akshaya_gv\\anacondas\\lib\\site-packages (from python-dateutil>=2.8.1->pandas->shap) (1.16.0)\n"
     ]
    }
   ],
   "source": [
    "!pip install shap\n"
   ]
  },
  {
   "cell_type": "code",
   "execution_count": 3,
   "id": "3c119ade",
   "metadata": {},
   "outputs": [
    {
     "name": "stdout",
     "output_type": "stream",
     "text": [
      "Collecting streamlit\n",
      "  Downloading streamlit-1.28.0-py2.py3-none-any.whl (8.4 MB)\n",
      "     ---------------------------------------- 8.4/8.4 MB 44.4 kB/s eta 0:00:00\n",
      "Collecting pydeck<1,>=0.8.0b4\n",
      "  Downloading pydeck-0.8.1b0-py2.py3-none-any.whl (4.8 MB)\n",
      "     ---------------------------------------- 4.8/4.8 MB 61.6 kB/s eta 0:00:00\n",
      "Requirement already satisfied: tornado<7,>=6.0.3 in c:\\users\\akshaya_gv\\anacondas\\lib\\site-packages (from streamlit) (6.1)\n",
      "Requirement already satisfied: python-dateutil<3,>=2.7.3 in c:\\users\\akshaya_gv\\anacondas\\lib\\site-packages (from streamlit) (2.8.2)\n",
      "Collecting blinker<2,>=1.0.0\n",
      "  Downloading blinker-1.6.3-py3-none-any.whl (13 kB)\n",
      "Requirement already satisfied: click<9,>=7.0 in c:\\users\\akshaya_gv\\anacondas\\lib\\site-packages (from streamlit) (8.0.4)\n",
      "Requirement already satisfied: pandas<3,>=1.3.0 in c:\\users\\akshaya_gv\\anacondas\\lib\\site-packages (from streamlit) (1.4.4)\n",
      "Requirement already satisfied: importlib-metadata<7,>=1.4 in c:\\users\\akshaya_gv\\anacondas\\lib\\site-packages (from streamlit) (4.11.3)\n",
      "Collecting protobuf<5,>=3.20\n",
      "  Downloading protobuf-4.24.4-cp39-cp39-win_amd64.whl (430 kB)\n",
      "     ------------------------------------- 430.5/430.5 kB 50.9 kB/s eta 0:00:00\n",
      "Requirement already satisfied: packaging<24,>=16.8 in c:\\users\\akshaya_gv\\anacondas\\lib\\site-packages (from streamlit) (21.3)\n",
      "Collecting cachetools<6,>=4.0\n",
      "  Downloading cachetools-5.3.2-py3-none-any.whl (9.3 kB)\n",
      "Collecting altair<6,>=4.0\n",
      "  Downloading altair-5.1.2-py3-none-any.whl (516 kB)\n",
      "     ------------------------------------ 516.2/516.2 kB 129.0 kB/s eta 0:00:00\n",
      "Requirement already satisfied: pillow<11,>=7.1.0 in c:\\users\\akshaya_gv\\anacondas\\lib\\site-packages (from streamlit) (9.2.0)\n",
      "Collecting validators<1,>=0.2\n",
      "  Downloading validators-0.22.0-py3-none-any.whl (26 kB)\n",
      "Requirement already satisfied: requests<3,>=2.27 in c:\\users\\akshaya_gv\\anacondas\\lib\\site-packages (from streamlit) (2.28.1)\n",
      "Requirement already satisfied: typing-extensions<5,>=4.3.0 in c:\\users\\akshaya_gv\\anacondas\\lib\\site-packages (from streamlit) (4.8.0)\n",
      "Collecting rich<14,>=10.14.0\n",
      "  Downloading rich-13.6.0-py3-none-any.whl (239 kB)\n",
      "     ------------------------------------ 239.8/239.8 kB 137.3 kB/s eta 0:00:00\n",
      "Requirement already satisfied: toml<2,>=0.10.1 in c:\\users\\akshaya_gv\\anacondas\\lib\\site-packages (from streamlit) (0.10.2)\n",
      "Collecting tzlocal<6,>=1.1\n",
      "  Downloading tzlocal-5.2-py3-none-any.whl (17 kB)\n",
      "Requirement already satisfied: watchdog>=2.1.5 in c:\\users\\akshaya_gv\\anacondas\\lib\\site-packages (from streamlit) (2.1.6)\n",
      "Collecting pyarrow>=6.0\n",
      "  Downloading pyarrow-13.0.0-cp39-cp39-win_amd64.whl (24.4 MB)\n",
      "     -------------------------------------- 24.4/24.4 MB 176.0 kB/s eta 0:00:00\n",
      "Collecting tenacity<9,>=8.1.0\n",
      "  Downloading tenacity-8.2.3-py3-none-any.whl (24 kB)\n",
      "Requirement already satisfied: numpy<2,>=1.19.3 in c:\\users\\akshaya_gv\\anacondas\\lib\\site-packages (from streamlit) (1.21.5)\n",
      "Collecting gitpython!=3.1.19,<4,>=3.0.7\n",
      "  Downloading GitPython-3.1.40-py3-none-any.whl (190 kB)\n",
      "     ------------------------------------ 190.6/190.6 kB 195.6 kB/s eta 0:00:00\n",
      "Requirement already satisfied: toolz in c:\\users\\akshaya_gv\\anacondas\\lib\\site-packages (from altair<6,>=4.0->streamlit) (0.11.2)\n",
      "Requirement already satisfied: jinja2 in c:\\users\\akshaya_gv\\anacondas\\lib\\site-packages (from altair<6,>=4.0->streamlit) (2.11.3)\n",
      "Requirement already satisfied: jsonschema>=3.0 in c:\\users\\akshaya_gv\\anacondas\\lib\\site-packages (from altair<6,>=4.0->streamlit) (4.16.0)\n",
      "Requirement already satisfied: colorama in c:\\users\\akshaya_gv\\anacondas\\lib\\site-packages (from click<9,>=7.0->streamlit) (0.4.5)\n",
      "Collecting gitdb<5,>=4.0.1\n",
      "  Downloading gitdb-4.0.11-py3-none-any.whl (62 kB)\n",
      "     -------------------------------------- 62.7/62.7 kB 167.7 kB/s eta 0:00:00\n",
      "Requirement already satisfied: zipp>=0.5 in c:\\users\\akshaya_gv\\anacondas\\lib\\site-packages (from importlib-metadata<7,>=1.4->streamlit) (3.8.0)\n",
      "Requirement already satisfied: pyparsing!=3.0.5,>=2.0.2 in c:\\users\\akshaya_gv\\anacondas\\lib\\site-packages (from packaging<24,>=16.8->streamlit) (3.0.9)\n",
      "Requirement already satisfied: pytz>=2020.1 in c:\\users\\akshaya_gv\\anacondas\\lib\\site-packages (from pandas<3,>=1.3.0->streamlit) (2022.1)\n",
      "Requirement already satisfied: six>=1.5 in c:\\users\\akshaya_gv\\anacondas\\lib\\site-packages (from python-dateutil<3,>=2.7.3->streamlit) (1.16.0)\n",
      "Requirement already satisfied: urllib3<1.27,>=1.21.1 in c:\\users\\akshaya_gv\\anacondas\\lib\\site-packages (from requests<3,>=2.27->streamlit) (1.26.11)\n",
      "Requirement already satisfied: idna<4,>=2.5 in c:\\users\\akshaya_gv\\anacondas\\lib\\site-packages (from requests<3,>=2.27->streamlit) (3.3)\n",
      "Requirement already satisfied: certifi>=2017.4.17 in c:\\users\\akshaya_gv\\anacondas\\lib\\site-packages (from requests<3,>=2.27->streamlit) (2022.9.14)\n",
      "Requirement already satisfied: charset-normalizer<3,>=2 in c:\\users\\akshaya_gv\\anacondas\\lib\\site-packages (from requests<3,>=2.27->streamlit) (2.0.4)\n",
      "Collecting markdown-it-py>=2.2.0\n",
      "  Downloading markdown_it_py-3.0.0-py3-none-any.whl (87 kB)\n",
      "     -------------------------------------- 87.5/87.5 kB 123.7 kB/s eta 0:00:00\n",
      "Collecting pygments<3.0.0,>=2.13.0\n",
      "  Downloading Pygments-2.16.1-py3-none-any.whl (1.2 MB)\n",
      "     ---------------------------------------- 1.2/1.2 MB 188.0 kB/s eta 0:00:00\n",
      "Collecting tzdata\n",
      "  Downloading tzdata-2023.3-py2.py3-none-any.whl (341 kB)\n",
      "     ------------------------------------ 341.8/341.8 kB 151.6 kB/s eta 0:00:00\n",
      "Collecting smmap<6,>=3.0.1\n",
      "  Downloading smmap-5.0.1-py3-none-any.whl (24 kB)\n",
      "Requirement already satisfied: MarkupSafe>=0.23 in c:\\users\\akshaya_gv\\anacondas\\lib\\site-packages (from jinja2->altair<6,>=4.0->streamlit) (2.0.1)\n",
      "Requirement already satisfied: pyrsistent!=0.17.0,!=0.17.1,!=0.17.2,>=0.14.0 in c:\\users\\akshaya_gv\\anacondas\\lib\\site-packages (from jsonschema>=3.0->altair<6,>=4.0->streamlit) (0.18.0)\n",
      "Requirement already satisfied: attrs>=17.4.0 in c:\\users\\akshaya_gv\\anacondas\\lib\\site-packages (from jsonschema>=3.0->altair<6,>=4.0->streamlit) (21.4.0)\n",
      "Collecting mdurl~=0.1\n",
      "  Downloading mdurl-0.1.2-py3-none-any.whl (10.0 kB)\n",
      "Installing collected packages: validators, tzdata, tenacity, smmap, pygments, pyarrow, protobuf, mdurl, cachetools, blinker, tzlocal, pydeck, markdown-it-py, gitdb, rich, gitpython, altair, streamlit\n",
      "  Attempting uninstall: tenacity\n",
      "    Found existing installation: tenacity 8.0.1\n",
      "    Uninstalling tenacity-8.0.1:\n",
      "      Successfully uninstalled tenacity-8.0.1\n",
      "  Attempting uninstall: pygments\n",
      "    Found existing installation: Pygments 2.11.2\n",
      "    Uninstalling Pygments-2.11.2:\n",
      "      Successfully uninstalled Pygments-2.11.2\n",
      "Successfully installed altair-5.1.2 blinker-1.6.3 cachetools-5.3.2 gitdb-4.0.11 gitpython-3.1.40 markdown-it-py-3.0.0 mdurl-0.1.2 protobuf-4.24.4 pyarrow-13.0.0 pydeck-0.8.1b0 pygments-2.16.1 rich-13.6.0 smmap-5.0.1 streamlit-1.28.0 tenacity-8.2.3 tzdata-2023.3 tzlocal-5.2 validators-0.22.0\n"
     ]
    },
    {
     "name": "stderr",
     "output_type": "stream",
     "text": [
      "ERROR: pip's dependency resolver does not currently take into account all the packages that are installed. This behaviour is the source of the following dependency conflicts.\n",
      "spyder 5.2.2 requires pyqt5<5.13, which is not installed.\n",
      "spyder 5.2.2 requires pyqtwebengine<5.13, which is not installed.\n"
     ]
    }
   ],
   "source": [
    "!pip install streamlit\n"
   ]
  },
  {
   "cell_type": "code",
   "execution_count": null,
   "id": "addc83f6",
   "metadata": {},
   "outputs": [],
   "source": [
    "!pip install xgboost"
   ]
  },
  {
   "cell_type": "code",
   "execution_count": null,
   "id": "4d8aecc6",
   "metadata": {},
   "outputs": [],
   "source": [
    "import numpy as np\n",
    "import pandas as pd\n",
    "import seaborn as sns\n",
    "import matplotlib.pyplot as plt\n",
    "from warnings import warnings.filterwarnings\n",
    "filterwarnings('ignore')\n",
    "from sklearn.preprocessing import StandardScaler, MinMaxScaler\n",
    "from sklearn.model_selection import train_test_split, RandomizedSearchCV\n",
    "from imblearn.over_sampling import SMOTE\n",
    "from sklearn.linear_model import LogisticRegression\n",
    "from sklearn.neighbors import KNeighborsClassifier\n",
    "from sklearn.naive_bayes import GaussianNB\n",
    "from sklearn.tree import DecisionTreeClassifier\n",
    "from sklearn.ensemble import RandomForestClassifier, AdaBoostClassifier, GradientBoostingClassifier\n",
    "from sklearn.svm import SVC\n",
    "from xgboost import XGBClassifier\n",
    "from sklearn.metrics import accuracy_score,precision_score,recall_score,roc_auc_score,f1_score,confusion_matrix,classification_report\n",
    "import shap\n",
    "import pickle\n",
    "import streamlit as st\n",
    "print('All Libraries are imported')\n"
   ]
  }
 ],
 "metadata": {
  "kernelspec": {
   "display_name": "Python 3 (ipykernel)",
   "language": "python",
   "name": "python3"
  },
  "language_info": {
   "codemirror_mode": {
    "name": "ipython",
    "version": 3
   },
   "file_extension": ".py",
   "mimetype": "text/x-python",
   "name": "python",
   "nbconvert_exporter": "python",
   "pygments_lexer": "ipython3",
   "version": "3.9.13"
  }
 },
 "nbformat": 4,
 "nbformat_minor": 5
}
