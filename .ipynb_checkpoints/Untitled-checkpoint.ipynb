{
 "cells": [
  {
   "cell_type": "markdown",
   "id": "a8ae8a6a",
   "metadata": {},
   "source": [
    "## End to end machine learning with deployment"
   ]
  },
  {
   "cell_type": "markdown",
   "id": "95b03191",
   "metadata": {},
   "source": [
    "**Problem Statement** \n",
    "Create a medical diagnostic app for predicting diabetes in women\n",
    "\n",
    "**Dataset** The Pima Indian dataset from Kaggle\n",
    "\n",
    "**Steps to Follow**\n",
    "1. Data Exploration\n",
    "2. Data Cleaning\n",
    "3. EDA\n",
    "4. Model fitting"
   ]
  },
  {
   "cell_type": "code",
   "execution_count": 2,
   "id": "968b868a",
   "metadata": {},
   "outputs": [
    {
     "name": "stdout",
     "output_type": "stream",
     "text": [
      "Requirement already satisfied: imbalanced-learn in c:\\users\\akshaya_gv\\anacondas\\lib\\site-packages (0.11.0)\n",
      "Requirement already satisfied: scipy>=1.5.0 in c:\\users\\akshaya_gv\\anacondas\\lib\\site-packages (from imbalanced-learn) (1.9.1)\n",
      "Requirement already satisfied: scikit-learn>=1.0.2 in c:\\users\\akshaya_gv\\anacondas\\lib\\site-packages (from imbalanced-learn) (1.0.2)\n",
      "Requirement already satisfied: joblib>=1.1.1 in c:\\users\\akshaya_gv\\anacondas\\lib\\site-packages (from imbalanced-learn) (1.3.2)\n",
      "Requirement already satisfied: numpy>=1.17.3 in c:\\users\\akshaya_gv\\anacondas\\lib\\site-packages (from imbalanced-learn) (1.21.5)\n",
      "Requirement already satisfied: threadpoolctl>=2.0.0 in c:\\users\\akshaya_gv\\anacondas\\lib\\site-packages (from imbalanced-learn) (2.2.0)\n"
     ]
    }
   ],
   "source": [
    "!pip install imbalanced-learn\n"
   ]
  },
  {
   "cell_type": "code",
   "execution_count": 3,
   "id": "2fcb8f8e",
   "metadata": {},
   "outputs": [
    {
     "name": "stdout",
     "output_type": "stream",
     "text": [
      "Requirement already satisfied: shap in c:\\users\\akshaya_gv\\anacondas\\lib\\site-packages (0.43.0)\n",
      "Requirement already satisfied: slicer==0.0.7 in c:\\users\\akshaya_gv\\anacondas\\lib\\site-packages (from shap) (0.0.7)\n",
      "Requirement already satisfied: numba in c:\\users\\akshaya_gv\\anacondas\\lib\\site-packages (from shap) (0.55.1)\n",
      "Requirement already satisfied: cloudpickle in c:\\users\\akshaya_gv\\anacondas\\lib\\site-packages (from shap) (2.0.0)\n",
      "Requirement already satisfied: tqdm>=4.27.0 in c:\\users\\akshaya_gv\\anacondas\\lib\\site-packages (from shap) (4.64.1)\n",
      "Requirement already satisfied: numpy in c:\\users\\akshaya_gv\\anacondas\\lib\\site-packages (from shap) (1.21.5)\n",
      "Requirement already satisfied: scikit-learn in c:\\users\\akshaya_gv\\anacondas\\lib\\site-packages (from shap) (1.0.2)\n",
      "Requirement already satisfied: pandas in c:\\users\\akshaya_gv\\anacondas\\lib\\site-packages (from shap) (1.4.4)\n",
      "Requirement already satisfied: scipy in c:\\users\\akshaya_gv\\anacondas\\lib\\site-packages (from shap) (1.9.1)\n",
      "Requirement already satisfied: packaging>20.9 in c:\\users\\akshaya_gv\\anacondas\\lib\\site-packages (from shap) (21.3)\n",
      "Requirement already satisfied: pyparsing!=3.0.5,>=2.0.2 in c:\\users\\akshaya_gv\\anacondas\\lib\\site-packages (from packaging>20.9->shap) (3.0.9)\n",
      "Requirement already satisfied: colorama in c:\\users\\akshaya_gv\\anacondas\\lib\\site-packages (from tqdm>=4.27.0->shap) (0.4.5)\n",
      "Requirement already satisfied: llvmlite<0.39,>=0.38.0rc1 in c:\\users\\akshaya_gv\\anacondas\\lib\\site-packages (from numba->shap) (0.38.0)\n",
      "Requirement already satisfied: setuptools in c:\\users\\akshaya_gv\\anacondas\\lib\\site-packages (from numba->shap) (63.4.1)\n",
      "Requirement already satisfied: pytz>=2020.1 in c:\\users\\akshaya_gv\\anacondas\\lib\\site-packages (from pandas->shap) (2022.1)\n",
      "Requirement already satisfied: python-dateutil>=2.8.1 in c:\\users\\akshaya_gv\\anacondas\\lib\\site-packages (from pandas->shap) (2.8.2)\n",
      "Requirement already satisfied: joblib>=0.11 in c:\\users\\akshaya_gv\\anacondas\\lib\\site-packages (from scikit-learn->shap) (1.3.2)\n",
      "Requirement already satisfied: threadpoolctl>=2.0.0 in c:\\users\\akshaya_gv\\anacondas\\lib\\site-packages (from scikit-learn->shap) (2.2.0)\n",
      "Requirement already satisfied: six>=1.5 in c:\\users\\akshaya_gv\\anacondas\\lib\\site-packages (from python-dateutil>=2.8.1->pandas->shap) (1.16.0)\n"
     ]
    }
   ],
   "source": [
    "!pip install shap\n"
   ]
  },
  {
   "cell_type": "code",
   "execution_count": null,
   "id": "3c119ade",
   "metadata": {},
   "outputs": [],
   "source": [
    "!pip install streamlit\n"
   ]
  },
  {
   "cell_type": "code",
   "execution_count": null,
   "id": "addc83f6",
   "metadata": {},
   "outputs": [],
   "source": [
    "!pip install xgboost"
   ]
  },
  {
   "cell_type": "code",
   "execution_count": null,
   "id": "4d8aecc6",
   "metadata": {},
   "outputs": [],
   "source": [
    "import numpy as np\n",
    "import pandas as pd\n",
    "import seaborn as sns\n",
    "import matplotlib.pyplot as plt\n",
    "from warnings import warnings.filterwarnings\n",
    "filterwarnings('ignore')\n",
    "from sklearn.preprocessing import StandardScaler, MinMaxScaler\n",
    "from sklearn.model_selection import train_test_split, RandomizedSearchCV\n",
    "from imblearn.over_sampling import SMOTE\n",
    "from sklearn.linear_model import LogisticRegression\n",
    "from sklearn.neighbors import KNeighborsClassifier\n",
    "from sklearn.naive_bayes import GaussianNB\n",
    "from sklearn.tree import DecisionTreeClassifier\n",
    "from sklearn.ensemble import RandomForestClassifier, AdaBoostClassifier, GradientBoostingClassifier\n",
    "from sklearn.svm import SVC\n",
    "from xgboost import XGBClassifier\n",
    "from sklearn.metrics import accuracy_score,precision_score,recall_score,roc_auc_score,f1_score,confusion_matrix,classification_report\n",
    "import shap\n",
    "import pickle\n",
    "import streamlit as st\n",
    "print('All Libraries are imported')\n"
   ]
  }
 ],
 "metadata": {
  "kernelspec": {
   "display_name": "Python 3 (ipykernel)",
   "language": "python",
   "name": "python3"
  },
  "language_info": {
   "codemirror_mode": {
    "name": "ipython",
    "version": 3
   },
   "file_extension": ".py",
   "mimetype": "text/x-python",
   "name": "python",
   "nbconvert_exporter": "python",
   "pygments_lexer": "ipython3",
   "version": "3.9.13"
  }
 },
 "nbformat": 4,
 "nbformat_minor": 5
}
